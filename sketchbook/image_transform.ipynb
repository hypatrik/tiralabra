{
 "cells": [
  {
   "cell_type": "code",
   "execution_count": 52,
   "metadata": {},
   "outputs": [],
   "source": [
    "import pickle\n",
    "import gzip\n",
    "import matplotlib.pyplot as plt\n",
    "import numpy as np"
   ]
  },
  {
   "cell_type": "code",
   "execution_count": 35,
   "metadata": {},
   "outputs": [
    {
     "data": {
      "text/plain": [
       "array([5, 0, 4, ..., 8, 4, 8])"
      ]
     },
     "execution_count": 35,
     "metadata": {},
     "output_type": "execute_result"
    }
   ],
   "source": [
    "# useiden eri mnist datasettien jälkeen päädyin tähän pikkelöityyn\n",
    "# https://www.kaggle.com/datasets/pablotab/mnistpklgz\n",
    "\n",
    "with gzip.open('../data/mnist.pkl.gz', 'rb') as f:\n",
    "    # Pikkeli on sen verran vanha, että lienee pakattu Python 2.7 versiolla.\n",
    "    # Lisäämällä encoding parametrin sain pikkelin ladattua muistiin.\n",
    "    train_set, valid_set, test_set = pickle.load(f, encoding='latin1')\n",
    "\n",
    "# Huomataan, että tuplen toinen lista labeleita.\n",
    "train_set[1]"
   ]
  },
  {
   "cell_type": "code",
   "execution_count": 51,
   "metadata": {},
   "outputs": [
    {
     "data": {
      "text/plain": [
       "784"
      ]
     },
     "execution_count": 51,
     "metadata": {},
     "output_type": "execute_result"
    }
   ],
   "source": [
    "# Huomataa, että train_set tuplen ensimmäinen on lista kuvia vektori muodossa\n",
    "train_set[0][0].size"
   ]
  },
  {
   "cell_type": "code",
   "execution_count": 58,
   "metadata": {},
   "outputs": [],
   "source": [
    "# Luodaan apufunktio kuva vektorin järjestäminen matriisiksi\n",
    "\n",
    "def image_vector_to_matrix(v):\n",
    "    n = int(np.sqrt(v.size))\n",
    "    return v.reshape(n, n)"
   ]
  },
  {
   "cell_type": "code",
   "execution_count": 65,
   "metadata": {},
   "outputs": [
    {
     "data": {
      "image/png": "[encoded data removed]",
      "text/plain": [
       "<Figure size 640x480 with 2 Axes>"
      ]
     },
     "metadata": {},
     "output_type": "display_data"
    },
    {
     "name": "stdout",
     "output_type": "stream",
     "text": [
      "Label: 5\n"
     ]
    }
   ],
   "source": [
    "# Huomataan, että pikkelöidyn datasetin kuvat ovat jo skaalattu [0, 1] välille.\n",
    "# Johtopäätös: Skaalausta ei tarvitse tehdä ja voidaan käyttää tätä datasettiä suoraan\n",
    "x = 0\n",
    "plt.imshow(image_vector_to_matrix(train_set[0][x]), cmap='gray_r')\n",
    "plt.colorbar()\n",
    "plt.show()\n",
    "print('Label: {}'.format(train_set[1][x]))"
   ]
  }
 ],
 "metadata": {
  "kernelspec": {
   "display_name": "tensorflow",
   "language": "python",
   "name": "python3"
  },
  "language_info": {
   "codemirror_mode": {
    "name": "ipython",
    "version": 3
   },
   "file_extension": ".py",
   "mimetype": "text/x-python",
   "name": "python",
   "nbconvert_exporter": "python",
   "pygments_lexer": "ipython3",
   "version": "3.10.11"
  },
  "orig_nbformat": 4
 },
 "nbformat": 4,
 "nbformat_minor": 2
}
